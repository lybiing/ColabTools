{
  "nbformat": 4,
  "nbformat_minor": 0,
  "metadata": {
    "colab": {
      "name": "Blender.ipynb",
      "provenance": [],
      "background_execution": "on",
      "authorship_tag": "ABX9TyOAUM5ayymqsXLwqlvy4V8w",
      "include_colab_link": true
    },
    "kernelspec": {
      "name": "python3",
      "display_name": "Python 3"
    },
    "language_info": {
      "name": "python"
    },
    "accelerator": "GPU",
    "gpuClass": "standard"
  },
  "cells": [
    {
      "cell_type": "markdown",
      "metadata": {
        "id": "view-in-github",
        "colab_type": "text"
      },
      "source": [
        "<a href=\"https://colab.research.google.com/github/lybiing/ColabTools/blob/main/Blender.ipynb\" target=\"_parent\"><img src=\"https://colab.research.google.com/assets/colab-badge.svg\" alt=\"Open In Colab\"/></a>"
      ]
    },
    {
      "cell_type": "code",
      "execution_count": 1,
      "metadata": {
        "colab": {
          "base_uri": "https://localhost:8080/"
        },
        "id": "e14V7Py6pHcz",
        "outputId": "4ed93a78-eca6-4362-d0bd-ccfb93bf76b8"
      },
      "outputs": [
        {
          "output_type": "stream",
          "name": "stdout",
          "text": [
            "Mounted at /content/drive\n"
          ]
        }
      ],
      "source": [
        "#Connect Google Drive to Google Colab\n",
        "#=====================================\n",
        "from google.colab import drive\n",
        "drive.mount('/content/drive')"
      ]
    },
    {
      "cell_type": "code",
      "source": [
        "#Download Blender from Blender Repository. \n",
        "#Other Versions are here: https://download.blender.org/release/\n",
        "#=====================================\n",
        "!wget https://download.blender.org/release/Blender3.2/blender-3.2.0-linux-x64.tar.xz"
      ],
      "metadata": {
        "colab": {
          "base_uri": "https://localhost:8080/"
        },
        "id": "h7ilqGl4pU9i",
        "outputId": "84f49cc8-fa46-4a60-aa5a-c001102d08b1"
      },
      "execution_count": 2,
      "outputs": [
        {
          "output_type": "stream",
          "name": "stdout",
          "text": [
            "--2022-06-23 17:39:19--  https://download.blender.org/release/Blender3.2/blender-3.2.0-linux-x64.tar.xz\n",
            "Resolving download.blender.org (download.blender.org)... 82.94.213.221\n",
            "Connecting to download.blender.org (download.blender.org)|82.94.213.221|:443... connected.\n",
            "HTTP request sent, awaiting response... 200 OK\n",
            "Length: 192843500 (184M) [application/octet-stream]\n",
            "Saving to: ‘blender-3.2.0-linux-x64.tar.xz’\n",
            "\n",
            "blender-3.2.0-linux 100%[===================>] 183.91M  3.69MB/s    in 98s     \n",
            "\n",
            "2022-06-23 17:40:57 (1.88 MB/s) - ‘blender-3.2.0-linux-x64.tar.xz’ saved [192843500/192843500]\n",
            "\n"
          ]
        }
      ]
    },
    {
      "cell_type": "code",
      "source": [
        "#Use these commands to move Blender zip file to Google Drive and then back to working directory so you don't have to download Blender each time\n",
        "\n",
        "#Copy Blender Zip File to Google Drive\n",
        "#=====================================\n",
        "#!cp /content/blender-2.93.5-linux-x64.tar.xz /content/drive/MyDrive/Blender/blender-2.93.5-linux-x64.tar.xz\n",
        "\n",
        "#Copy Blender Zip File from Google Drive\n",
        "#=====================================\n",
        "#!cp /content/drive/MyDrive/Blender/blender-2.93.5-linux-x64.tar.xz /content/blender-2.93.5-linux-x64.tar.xz"
      ],
      "metadata": {
        "id": "xMNctlrwpVQC"
      },
      "execution_count": null,
      "outputs": []
    },
    {
      "cell_type": "code",
      "source": [
        "#Unzip Blender \n",
        "#=====================================\n",
        "!tar xf blender-3.2.0-linux-x64.tar.xz"
      ],
      "metadata": {
        "id": "4_pT0MNZpVdD"
      },
      "execution_count": 3,
      "outputs": []
    },
    {
      "cell_type": "code",
      "source": [
        "#Deletes the Default libtcmalloc-minimal4 version and installs the Ubuntu default version\n",
        "import os\n",
        "\n",
        "os.environ[\"LD_PRELOAD\"] = \"\"\n",
        "\n",
        "#Deletes wrong Version of libtcmalloc-minimal4\n",
        "!apt remove libtcmalloc-minimal4\n",
        "#Installs correct version of libtcmalloc-minimal4\n",
        "!apt install libtcmalloc-minimal4\n",
        "\n",
        "#Adds this library to the user environment\n",
        "os.environ[\"LD_PRELOAD\"] = \"/usr/lib/x86_64-linux-gnu/libtcmalloc_minimal.so.4.3.0\""
      ],
      "metadata": {
        "colab": {
          "base_uri": "https://localhost:8080/"
        },
        "id": "3YGdpSKkprv_",
        "outputId": "61219348-73cd-4c9e-dad0-d0e8abe736c6"
      },
      "execution_count": 4,
      "outputs": [
        {
          "output_type": "stream",
          "name": "stdout",
          "text": [
            "Reading package lists... Done\n",
            "Building dependency tree       \n",
            "Reading state information... Done\n",
            "The following package was automatically installed and is no longer required:\n",
            "  libnvidia-common-460\n",
            "Use 'apt autoremove' to remove it.\n",
            "The following packages will be REMOVED:\n",
            "  google-perftools libgoogle-perftools4 libtcmalloc-minimal4\n",
            "0 upgraded, 0 newly installed, 3 to remove and 49 not upgraded.\n",
            "After this operation, 2,187 kB disk space will be freed.\n",
            "(Reading database ... 155639 files and directories currently installed.)\n",
            "Removing google-perftools (2.5-2.2ubuntu3) ...\n",
            "Removing libgoogle-perftools4 (2.5-2.2ubuntu3) ...\n",
            "Removing libtcmalloc-minimal4 (2.5-2.2ubuntu3) ...\n",
            "Processing triggers for man-db (2.8.3-2ubuntu0.1) ...\n",
            "Processing triggers for libc-bin (2.27-3ubuntu1.3) ...\n",
            "/sbin/ldconfig.real: /usr/local/lib/python3.7/dist-packages/ideep4py/lib/libmkldnn.so.0 is not a symbolic link\n",
            "\n",
            "Reading package lists... Done\n",
            "Building dependency tree       \n",
            "Reading state information... Done\n",
            "The following package was automatically installed and is no longer required:\n",
            "  libnvidia-common-460\n",
            "Use 'apt autoremove' to remove it.\n",
            "The following NEW packages will be installed:\n",
            "  libtcmalloc-minimal4\n",
            "0 upgraded, 1 newly installed, 0 to remove and 49 not upgraded.\n",
            "Need to get 91.6 kB of archives.\n",
            "After this operation, 380 kB of additional disk space will be used.\n",
            "Get:1 http://archive.ubuntu.com/ubuntu bionic/main amd64 libtcmalloc-minimal4 amd64 2.5-2.2ubuntu3 [91.6 kB]\n",
            "Fetched 91.6 kB in 0s (200 kB/s)\n",
            "Selecting previously unselected package libtcmalloc-minimal4.\n",
            "(Reading database ... 155565 files and directories currently installed.)\n",
            "Preparing to unpack .../libtcmalloc-minimal4_2.5-2.2ubuntu3_amd64.deb ...\n",
            "Unpacking libtcmalloc-minimal4 (2.5-2.2ubuntu3) ...\n",
            "Setting up libtcmalloc-minimal4 (2.5-2.2ubuntu3) ...\n",
            "Processing triggers for libc-bin (2.27-3ubuntu1.3) ...\n",
            "/sbin/ldconfig.real: /usr/local/lib/python3.7/dist-packages/ideep4py/lib/libmkldnn.so.0 is not a symbolic link\n",
            "\n"
          ]
        }
      ]
    },
    {
      "cell_type": "code",
      "source": [
        "#Path of Blender File to be Rendered \n",
        "#===========================\n",
        "filename = '/content/drive/MyDrive/blender/dixing.blend'"
      ],
      "metadata": {
        "id": "an5MOIlBp0Xx"
      },
      "execution_count": 15,
      "outputs": []
    },
    {
      "cell_type": "code",
      "source": [
        "#Render Single Frame: Change -f 1 to -f 100 to render frame 100 for example\n",
        "#===========================================================================\n",
        "#!./blender-3.2.0-linux-x64/blender -b $filename -noaudio -E 'CYCLES' --debug-all -o \"/content/drive/MyDrive/Blender\" -f 1 -F 'PNG' -- --cycles-device CUDA\n",
        "\n",
        "#Render Single Frame using OPTIX, if GPU supports it, otherwise use CUDA. \n",
        "#===========================================================================\n",
        "#!./blender-3.2.0-linux-x64/blender -b $filename -noaudio -E 'CYCLES' -o \"/content/drive/MyDrive/Blender\" -f 230 -F 'PNG' -- --cycles-device OPTIX\n",
        "\n",
        "#Render Animation: -s 1 and -e 250 means, render frames 1 to 250 of animation, -a means render animation. Animation will be rendered in whatever format was chosen in blender file. i.e. MP4\n",
        "#===========================================================================\n",
        "!./blender-3.2.0-linux-x64/blender -b $filename -noaudio -E 'CYCLES' -o \"/content/drive/MyDrive/Blender\" -s 0 -e 1 -a -- --cycles-device CUDA"
      ],
      "metadata": {
        "colab": {
          "base_uri": "https://localhost:8080/"
        },
        "id": "4KWPBh6Sp0bQ",
        "outputId": "09598603-666b-40ea-94f1-f7bc92c85a42"
      },
      "execution_count": 19,
      "outputs": [
        {
          "output_type": "stream",
          "name": "stdout",
          "text": [
            "Blender 3.2.0 (hash e05e1e369187 built 2022-06-08 10:37:43)\n",
            "Read blend: /content/drive/MyDrive/blender/dixing.blend\n",
            "Fra:0 Mem:752.11M (Peak 752.13M) | Time:00:00.94 | Mem:0.00M, Peak:0.00M | Scene, ViewLayer | Synchronizing object | 平面\n",
            "Fra:0 Mem:911.39M (Peak 933.77M) | Time:00:01.46 | Mem:0.00M, Peak:0.00M | Scene, ViewLayer | Initializing\n",
            "Fra:0 Mem:570.31M (Peak 933.77M) | Time:00:01.47 | Mem:0.00M, Peak:0.00M | Scene, ViewLayer | Waiting for render to start\n",
            "Fra:0 Mem:570.31M (Peak 933.77M) | Time:00:01.47 | Mem:0.00M, Peak:0.00M | Scene, ViewLayer | Loading render kernels (may take a few minutes the first time)\n",
            "Fra:0 Mem:570.31M (Peak 933.77M) | Time:00:01.52 | Mem:0.00M, Peak:0.00M | Scene, ViewLayer | Updating Scene\n",
            "Fra:0 Mem:570.31M (Peak 933.77M) | Time:00:01.52 | Mem:0.00M, Peak:0.00M | Scene, ViewLayer | Updating Shaders\n",
            "Fra:0 Mem:570.81M (Peak 933.77M) | Time:00:01.63 | Mem:0.00M, Peak:0.00M | Scene, ViewLayer | Updating Procedurals\n",
            "Fra:0 Mem:570.81M (Peak 933.77M) | Time:00:01.63 | Mem:0.00M, Peak:0.00M | Scene, ViewLayer | Updating Background\n",
            "Fra:0 Mem:570.81M (Peak 933.77M) | Time:00:01.63 | Mem:0.00M, Peak:0.00M | Scene, ViewLayer | Updating Camera\n",
            "Fra:0 Mem:570.81M (Peak 933.77M) | Time:00:01.63 | Mem:0.00M, Peak:0.00M | Scene, ViewLayer | Updating Meshes Flags\n",
            "Fra:0 Mem:570.81M (Peak 933.77M) | Time:00:01.63 | Mem:0.00M, Peak:0.00M | Scene, ViewLayer | Updating Objects\n",
            "Fra:0 Mem:570.81M (Peak 933.77M) | Time:00:01.63 | Mem:0.00M, Peak:0.00M | Scene, ViewLayer | Updating Objects | Copying Transformations to device\n",
            "Fra:0 Mem:570.81M (Peak 933.77M) | Time:00:01.63 | Mem:0.00M, Peak:0.00M | Scene, ViewLayer | Updating Objects | Applying Static Transformations\n",
            "Fra:0 Mem:570.81M (Peak 933.77M) | Time:00:01.64 | Mem:0.00M, Peak:0.00M | Scene, ViewLayer | Updating Particle Systems\n",
            "Fra:0 Mem:570.81M (Peak 933.77M) | Time:00:01.64 | Mem:0.00M, Peak:0.00M | Scene, ViewLayer | Updating Particle Systems | Copying Particles to device\n",
            "Fra:0 Mem:570.81M (Peak 933.77M) | Time:00:01.64 | Mem:0.00M, Peak:0.00M | Scene, ViewLayer | Updating Meshes\n",
            "Fra:0 Mem:615.49M (Peak 933.77M) | Time:00:01.75 | Mem:0.00M, Peak:0.00M | Scene, ViewLayer | Updating Mesh | Computing attributes\n",
            "Fra:0 Mem:632.28M (Peak 933.77M) | Time:00:01.76 | Mem:0.00M, Peak:0.00M | Scene, ViewLayer | Updating Mesh | Copying Attributes to device\n",
            "Fra:0 Mem:632.28M (Peak 933.77M) | Time:00:01.77 | Mem:16.78M, Peak:16.78M | Scene, ViewLayer | Updating Scene BVH | Building\n",
            "Fra:0 Mem:632.28M (Peak 933.77M) | Time:00:01.77 | Mem:16.78M, Peak:16.78M | Scene, ViewLayer | Updating Scene BVH | Building BVH\n",
            "Fra:0 Mem:799.83M (Peak 933.77M) | Time:00:02.40 | Mem:16.78M, Peak:16.78M | Scene, ViewLayer | Updating Scene BVH | Building BVH 0%, duplicates 0%\n",
            "Fra:0 Mem:799.83M (Peak 933.77M) | Time:00:02.65 | Mem:16.78M, Peak:16.78M | Scene, ViewLayer | Updating Scene BVH | Building BVH 12%, duplicates 0%\n",
            "Fra:0 Mem:799.83M (Peak 933.77M) | Time:00:02.90 | Mem:16.78M, Peak:16.78M | Scene, ViewLayer | Updating Scene BVH | Building BVH 22%, duplicates 0%\n",
            "Fra:0 Mem:799.83M (Peak 933.77M) | Time:00:03.15 | Mem:16.78M, Peak:16.78M | Scene, ViewLayer | Updating Scene BVH | Building BVH 32%, duplicates 0%\n",
            "Fra:0 Mem:799.83M (Peak 933.77M) | Time:00:03.40 | Mem:16.78M, Peak:16.78M | Scene, ViewLayer | Updating Scene BVH | Building BVH 43%, duplicates 0%\n",
            "Fra:0 Mem:799.83M (Peak 933.77M) | Time:00:03.66 | Mem:16.78M, Peak:16.78M | Scene, ViewLayer | Updating Scene BVH | Building BVH 50%, duplicates 0%\n",
            "Fra:0 Mem:799.83M (Peak 933.77M) | Time:00:03.91 | Mem:16.78M, Peak:16.78M | Scene, ViewLayer | Updating Scene BVH | Building BVH 62%, duplicates 0%\n",
            "Fra:0 Mem:799.83M (Peak 933.77M) | Time:00:04.16 | Mem:16.78M, Peak:16.78M | Scene, ViewLayer | Updating Scene BVH | Building BVH 72%, duplicates 0%\n",
            "Fra:0 Mem:799.83M (Peak 933.77M) | Time:00:04.41 | Mem:16.78M, Peak:16.78M | Scene, ViewLayer | Updating Scene BVH | Building BVH 82%, duplicates 0%\n",
            "Fra:0 Mem:799.83M (Peak 933.77M) | Time:00:04.66 | Mem:16.78M, Peak:16.78M | Scene, ViewLayer | Updating Scene BVH | Building BVH 93%, duplicates 0%\n",
            "Fra:0 Mem:799.83M (Peak 933.77M) | Time:00:04.83 | Mem:16.78M, Peak:16.78M | Scene, ViewLayer | Updating Scene BVH | Packing BVH triangles and strands\n",
            "Fra:0 Mem:811.00M (Peak 933.77M) | Time:00:04.85 | Mem:16.78M, Peak:16.78M | Scene, ViewLayer | Updating Scene BVH | Packing BVH nodes\n",
            "Fra:0 Mem:800.85M (Peak 933.77M) | Time:00:05.12 | Mem:16.78M, Peak:16.78M | Scene, ViewLayer | Updating Scene BVH | Copying BVH to device\n",
            "Fra:0 Mem:800.85M (Peak 933.77M) | Time:00:05.13 | Mem:101.07M, Peak:101.07M | Scene, ViewLayer | Updating Mesh | Computing normals\n",
            "Fra:0 Mem:996.37M (Peak 996.37M) | Time:00:05.25 | Mem:101.07M, Peak:101.07M | Scene, ViewLayer | Updating Mesh | Copying Mesh to device\n",
            "Fra:0 Mem:996.37M (Peak 996.37M) | Time:00:05.28 | Mem:296.59M, Peak:296.59M | Scene, ViewLayer | Updating Objects Flags\n",
            "Fra:0 Mem:996.37M (Peak 996.37M) | Time:00:05.28 | Mem:296.59M, Peak:296.59M | Scene, ViewLayer | Updating Primitive Offsets\n",
            "Fra:0 Mem:996.37M (Peak 996.37M) | Time:00:05.28 | Mem:296.59M, Peak:296.59M | Scene, ViewLayer | Updating Images\n",
            "Fra:0 Mem:996.37M (Peak 996.37M) | Time:00:05.28 | Mem:296.59M, Peak:296.59M | Scene, ViewLayer | Updating Camera Volume\n",
            "Fra:0 Mem:996.37M (Peak 996.37M) | Time:00:05.28 | Mem:296.59M, Peak:296.59M | Scene, ViewLayer | Updating Lookup Tables\n",
            "Fra:0 Mem:996.37M (Peak 996.37M) | Time:00:05.28 | Mem:296.84M, Peak:296.84M | Scene, ViewLayer | Updating Lights\n",
            "Fra:0 Mem:996.37M (Peak 996.37M) | Time:00:05.28 | Mem:296.84M, Peak:296.84M | Scene, ViewLayer | Updating Lights | Computing distribution\n",
            "Fra:0 Mem:996.37M (Peak 996.37M) | Time:00:05.28 | Mem:296.84M, Peak:296.84M | Scene, ViewLayer | Updating Integrator\n",
            "Fra:0 Mem:996.38M (Peak 996.38M) | Time:00:05.28 | Mem:296.85M, Peak:296.85M | Scene, ViewLayer | Updating Film\n",
            "Fra:0 Mem:996.38M (Peak 996.64M) | Time:00:05.28 | Mem:296.60M, Peak:296.85M | Scene, ViewLayer | Updating Lookup Tables\n",
            "Fra:0 Mem:996.38M (Peak 996.64M) | Time:00:05.28 | Mem:296.86M, Peak:296.86M | Scene, ViewLayer | Updating Baking\n",
            "Fra:0 Mem:996.38M (Peak 996.64M) | Time:00:05.28 | Mem:296.86M, Peak:296.86M | Scene, ViewLayer | Updating Device | Writing constant memory\n",
            "Fra:0 Mem:996.38M (Peak 996.64M) | Time:00:05.28 | Mem:296.86M, Peak:296.86M | Scene, ViewLayer | Loading denoising kernels (may take a few minutes the first time)\n",
            "Fra:0 Mem:1003.38M (Peak 1003.38M) | Time:00:05.29 | Mem:1031.86M, Peak:1031.86M | Scene, ViewLayer | Sample 0/1080\n",
            "Fra:0 Mem:1230.15M (Peak 1230.15M) | Time:00:05.31 | Remaining:00:11.06 | Mem:1258.61M, Peak:1258.61M | Scene, ViewLayer | Sample 1/1080\n",
            "Fra:0 Mem:1230.17M (Peak 1230.19M) | Time:00:05.82 | Remaining:00:06.58 | Mem:1258.63M, Peak:1258.63M | Scene, ViewLayer | Sample 80/1080\n",
            "Fra:0 Mem:1230.17M (Peak 1230.19M) | Time:00:05.84 | Remaining:00:05.55 | Mem:1258.63M, Peak:1258.63M | Scene, ViewLayer | Sample 96/1080\n",
            "Fra:0 Mem:1230.17M (Peak 1230.19M) | Time:00:05.85 | Remaining:00:04.78 | Mem:1258.63M, Peak:1258.63M | Scene, ViewLayer | Sample 112/1080\n",
            "Fra:0 Mem:1230.17M (Peak 1230.19M) | Time:00:05.86 | Remaining:00:04.19 | Mem:1258.63M, Peak:1258.63M | Scene, ViewLayer | Sample 128/1080\n",
            "Fra:0 Mem:1230.17M (Peak 1230.19M) | Time:00:05.87 | Remaining:00:03.71 | Mem:1258.63M, Peak:1258.63M | Scene, ViewLayer | Sample 144/1080\n",
            "Fra:0 Mem:1230.17M (Peak 1230.19M) | Time:00:05.87 | Remaining:00:03.33 | Mem:1258.63M, Peak:1258.63M | Scene, ViewLayer | Sample 160/1080\n",
            "Fra:0 Mem:1230.17M (Peak 1230.19M) | Time:00:05.88 | Remaining:00:03.01 | Mem:1258.63M, Peak:1258.63M | Scene, ViewLayer | Sample 176/1080\n",
            "Fra:0 Mem:1230.17M (Peak 1230.19M) | Time:00:05.89 | Remaining:00:02.74 | Mem:1258.63M, Peak:1258.63M | Scene, ViewLayer | Sample 192/1080\n",
            "Fra:0 Mem:1230.17M (Peak 1230.19M) | Time:00:05.89 | Remaining:00:02.51 | Mem:1258.63M, Peak:1258.63M | Scene, ViewLayer | Sample 208/1080\n",
            "Fra:0 Mem:1230.17M (Peak 1230.19M) | Time:00:05.90 | Remaining:00:02.31 | Mem:1258.63M, Peak:1258.63M | Scene, ViewLayer | Sample 224/1080\n",
            "Fra:0 Mem:1230.17M (Peak 1230.19M) | Time:00:05.91 | Remaining:00:02.14 | Mem:1258.63M, Peak:1258.63M | Scene, ViewLayer | Sample 240/1080\n",
            "Fra:0 Mem:1230.17M (Peak 1230.19M) | Time:00:05.91 | Remaining:00:01.98 | Mem:1258.63M, Peak:1258.63M | Scene, ViewLayer | Sample 256/1080\n",
            "Fra:0 Mem:1230.17M (Peak 1230.19M) | Time:00:05.92 | Remaining:00:01.85 | Mem:1258.63M, Peak:1258.63M | Scene, ViewLayer | Sample 272/1080\n",
            "Fra:0 Mem:1230.17M (Peak 1230.19M) | Time:00:05.92 | Remaining:00:01.73 | Mem:1258.63M, Peak:1258.63M | Scene, ViewLayer | Sample 288/1080\n",
            "Fra:0 Mem:1230.17M (Peak 1230.19M) | Time:00:05.93 | Remaining:00:01.62 | Mem:1258.63M, Peak:1258.63M | Scene, ViewLayer | Sample 304/1080\n",
            "Fra:0 Mem:1230.17M (Peak 1230.19M) | Time:00:05.94 | Remaining:00:01.52 | Mem:1258.63M, Peak:1258.63M | Scene, ViewLayer | Sample 320/1080\n",
            "Fra:0 Mem:1230.17M (Peak 1230.19M) | Time:00:05.94 | Remaining:00:01.43 | Mem:1258.63M, Peak:1258.63M | Scene, ViewLayer | Sample 336/1080\n",
            "Fra:0 Mem:1230.17M (Peak 1230.19M) | Time:00:05.95 | Remaining:00:01.34 | Mem:1258.63M, Peak:1258.63M | Scene, ViewLayer | Sample 352/1080\n",
            "Fra:0 Mem:1230.17M (Peak 1230.19M) | Time:00:05.95 | Remaining:00:01.27 | Mem:1258.63M, Peak:1258.63M | Scene, ViewLayer | Sample 368/1080\n",
            "Fra:0 Mem:1230.17M (Peak 1230.19M) | Time:00:05.96 | Remaining:00:01.20 | Mem:1258.63M, Peak:1258.63M | Scene, ViewLayer | Sample 384/1080\n",
            "Fra:0 Mem:1230.17M (Peak 1230.19M) | Time:00:05.96 | Remaining:00:01.13 | Mem:1258.63M, Peak:1258.63M | Scene, ViewLayer | Sample 400/1080\n",
            "Fra:0 Mem:1230.17M (Peak 1230.19M) | Time:00:05.97 | Remaining:00:01.07 | Mem:1258.63M, Peak:1258.63M | Scene, ViewLayer | Sample 416/1080\n",
            "Fra:0 Mem:1230.17M (Peak 1230.19M) | Time:00:05.97 | Remaining:00:01.01 | Mem:1258.63M, Peak:1258.63M | Scene, ViewLayer | Sample 432/1080\n",
            "Fra:0 Mem:1230.17M (Peak 1230.19M) | Time:00:05.98 | Remaining:00:00.96 | Mem:1258.63M, Peak:1258.63M | Scene, ViewLayer | Sample 448/1080\n",
            "Fra:0 Mem:1230.17M (Peak 1230.19M) | Time:00:05.98 | Remaining:00:00.91 | Mem:1258.63M, Peak:1258.63M | Scene, ViewLayer | Sample 464/1080\n",
            "Fra:0 Mem:1230.17M (Peak 1230.19M) | Time:00:05.99 | Remaining:00:00.86 | Mem:1258.63M, Peak:1258.63M | Scene, ViewLayer | Sample 480/1080\n",
            "Fra:0 Mem:1230.17M (Peak 1230.19M) | Time:00:05.99 | Remaining:00:00.82 | Mem:1258.63M, Peak:1258.63M | Scene, ViewLayer | Sample 496/1080\n",
            "Fra:0 Mem:1230.17M (Peak 1230.19M) | Time:00:06.00 | Remaining:00:00.78 | Mem:1258.63M, Peak:1258.63M | Scene, ViewLayer | Sample 512/1080\n",
            "Fra:0 Mem:1230.17M (Peak 1230.19M) | Time:00:06.00 | Remaining:00:00.74 | Mem:1258.63M, Peak:1258.63M | Scene, ViewLayer | Sample 528/1080\n",
            "Fra:0 Mem:1230.17M (Peak 1230.19M) | Time:00:06.01 | Remaining:00:00.70 | Mem:1258.63M, Peak:1258.63M | Scene, ViewLayer | Sample 544/1080\n",
            "Fra:0 Mem:1230.17M (Peak 1230.19M) | Time:00:06.01 | Remaining:00:00.66 | Mem:1258.63M, Peak:1258.63M | Scene, ViewLayer | Sample 560/1080\n",
            "Fra:0 Mem:1230.17M (Peak 1230.19M) | Time:00:06.02 | Remaining:00:00.63 | Mem:1258.63M, Peak:1258.63M | Scene, ViewLayer | Sample 576/1080\n",
            "Fra:0 Mem:1230.17M (Peak 1230.19M) | Time:00:06.02 | Remaining:00:00.59 | Mem:1258.63M, Peak:1258.63M | Scene, ViewLayer | Sample 592/1080\n",
            "Fra:0 Mem:1230.17M (Peak 1230.19M) | Time:00:06.03 | Remaining:00:00.56 | Mem:1258.63M, Peak:1258.63M | Scene, ViewLayer | Sample 608/1080\n",
            "Fra:0 Mem:1230.17M (Peak 1230.19M) | Time:00:06.03 | Remaining:00:00.53 | Mem:1258.63M, Peak:1258.63M | Scene, ViewLayer | Sample 624/1080\n",
            "Fra:0 Mem:1230.17M (Peak 1230.19M) | Time:00:06.04 | Remaining:00:00.51 | Mem:1258.63M, Peak:1258.63M | Scene, ViewLayer | Sample 640/1080\n",
            "Fra:0 Mem:1230.17M (Peak 1230.19M) | Time:00:06.04 | Remaining:00:00.48 | Mem:1258.63M, Peak:1258.63M | Scene, ViewLayer | Sample 656/1080\n",
            "Fra:0 Mem:1230.17M (Peak 1230.19M) | Time:00:06.05 | Remaining:00:00.45 | Mem:1258.63M, Peak:1258.63M | Scene, ViewLayer | Sample 672/1080\n",
            "Fra:0 Mem:1230.17M (Peak 1230.19M) | Time:00:06.05 | Remaining:00:00.43 | Mem:1258.63M, Peak:1258.63M | Scene, ViewLayer | Sample 688/1080\n",
            "Fra:0 Mem:1230.17M (Peak 1230.19M) | Time:00:06.06 | Remaining:00:00.40 | Mem:1258.63M, Peak:1258.63M | Scene, ViewLayer | Sample 704/1080\n",
            "Fra:0 Mem:1230.17M (Peak 1230.19M) | Time:00:06.06 | Remaining:00:00.38 | Mem:1258.63M, Peak:1258.63M | Scene, ViewLayer | Sample 720/1080\n",
            "Fra:0 Mem:1230.17M (Peak 1230.19M) | Time:00:06.07 | Remaining:00:00.35 | Mem:1258.63M, Peak:1258.63M | Scene, ViewLayer | Sample 736/1080\n",
            "Fra:0 Mem:1230.17M (Peak 1230.19M) | Time:00:06.07 | Remaining:00:00.33 | Mem:1258.63M, Peak:1258.63M | Scene, ViewLayer | Sample 752/1080\n",
            "Fra:0 Mem:1230.17M (Peak 1230.19M) | Time:00:06.07 | Remaining:00:00.31 | Mem:1258.63M, Peak:1258.63M | Scene, ViewLayer | Sample 768/1080\n",
            "Fra:0 Mem:1230.17M (Peak 1230.19M) | Time:00:06.08 | Remaining:00:00.29 | Mem:1258.63M, Peak:1258.63M | Scene, ViewLayer | Sample 784/1080\n",
            "Fra:0 Mem:1230.17M (Peak 1230.19M) | Time:00:06.08 | Remaining:00:00.27 | Mem:1258.63M, Peak:1258.63M | Scene, ViewLayer | Sample 800/1080\n",
            "Fra:0 Mem:1230.17M (Peak 1230.19M) | Time:00:06.09 | Remaining:00:00.25 | Mem:1258.63M, Peak:1258.63M | Scene, ViewLayer | Sample 816/1080\n",
            "Fra:0 Mem:1230.17M (Peak 1230.19M) | Time:00:06.09 | Remaining:00:00.23 | Mem:1258.63M, Peak:1258.63M | Scene, ViewLayer | Sample 832/1080\n",
            "Fra:0 Mem:1230.17M (Peak 1230.19M) | Time:00:06.09 | Remaining:00:00.21 | Mem:1258.63M, Peak:1258.63M | Scene, ViewLayer | Sample 848/1080\n",
            "Fra:0 Mem:1230.17M (Peak 1230.19M) | Time:00:06.10 | Remaining:00:00.20 | Mem:1258.63M, Peak:1258.63M | Scene, ViewLayer | Sample 864/1080\n",
            "Fra:0 Mem:1230.17M (Peak 1230.19M) | Time:00:06.10 | Remaining:00:00.18 | Mem:1258.63M, Peak:1258.63M | Scene, ViewLayer | Sample 880/1080\n",
            "Fra:0 Mem:1230.17M (Peak 1230.19M) | Time:00:06.11 | Remaining:00:00.16 | Mem:1258.63M, Peak:1258.63M | Scene, ViewLayer | Sample 896/1080\n",
            "Fra:0 Mem:1230.17M (Peak 1230.19M) | Time:00:06.11 | Remaining:00:00.15 | Mem:1258.63M, Peak:1258.63M | Scene, ViewLayer | Sample 912/1080\n",
            "Fra:0 Mem:1230.17M (Peak 1230.19M) | Time:00:06.12 | Remaining:00:00.13 | Mem:1258.63M, Peak:1258.63M | Scene, ViewLayer | Sample 928/1080\n",
            "Fra:0 Mem:1230.17M (Peak 1230.19M) | Time:00:06.12 | Remaining:00:00.11 | Mem:1258.63M, Peak:1258.63M | Scene, ViewLayer | Sample 944/1080\n",
            "Fra:0 Mem:1230.17M (Peak 1230.19M) | Time:00:06.12 | Remaining:00:00.10 | Mem:1258.63M, Peak:1258.63M | Scene, ViewLayer | Sample 960/1080\n",
            "Fra:0 Mem:1230.17M (Peak 1230.19M) | Time:00:06.13 | Remaining:00:00.08 | Mem:1258.63M, Peak:1258.63M | Scene, ViewLayer | Sample 976/1080\n",
            "Fra:0 Mem:1230.17M (Peak 1230.19M) | Time:00:06.13 | Remaining:00:00.07 | Mem:1258.63M, Peak:1258.63M | Scene, ViewLayer | Sample 992/1080\n",
            "Fra:0 Mem:1230.17M (Peak 1230.19M) | Time:00:06.14 | Remaining:00:00.06 | Mem:1258.63M, Peak:1258.63M | Scene, ViewLayer | Sample 1008/1080\n",
            "Fra:0 Mem:1230.17M (Peak 1230.19M) | Time:00:06.14 | Remaining:00:00.04 | Mem:1258.63M, Peak:1258.63M | Scene, ViewLayer | Sample 1024/1080\n",
            "Fra:0 Mem:1230.17M (Peak 1230.19M) | Time:00:06.14 | Remaining:00:00.03 | Mem:1258.63M, Peak:1258.63M | Scene, ViewLayer | Sample 1040/1080\n",
            "Fra:0 Mem:1230.17M (Peak 1230.19M) | Time:00:06.15 | Remaining:00:00.01 | Mem:1258.63M, Peak:1258.63M | Scene, ViewLayer | Sample 1056/1080\n",
            "Fra:0 Mem:1230.17M (Peak 1230.19M) | Time:00:06.15 | Remaining:00:00.00 | Mem:1258.63M, Peak:1258.63M | Scene, ViewLayer | Sample 1072/1080\n",
            "Fra:0 Mem:1398.92M (Peak 1588.76M) | Time:00:12.11 | Mem:1258.63M, Peak:1258.63M | Scene, ViewLayer | Sample 1080/1080\n",
            "Fra:0 Mem:1398.92M (Peak 1588.76M) | Time:00:12.11 | Mem:1258.63M, Peak:1258.63M | Scene, ViewLayer | Finished\n",
            "Saved: '/content/drive/MyDrive/Blender0000.png'\n",
            " Time: 00:12.77 (Saving: 00:00.51)\n",
            "\n",
            "Fra:1 Mem:752.36M (Peak 1588.76M) | Time:00:00.97 | Mem:0.00M, Peak:0.00M | Scene, ViewLayer | Synchronizing object | 平面\n",
            "Fra:1 Mem:911.64M (Peak 1588.76M) | Time:00:01.71 | Mem:0.00M, Peak:0.00M | Scene, ViewLayer | Initializing\n",
            "Fra:1 Mem:570.56M (Peak 1588.76M) | Time:00:01.72 | Mem:0.00M, Peak:0.00M | Scene, ViewLayer | Waiting for render to start\n",
            "Fra:1 Mem:570.56M (Peak 1588.76M) | Time:00:01.72 | Mem:0.00M, Peak:0.00M | Scene, ViewLayer | Loading render kernels (may take a few minutes the first time)\n",
            "Fra:1 Mem:570.56M (Peak 1588.76M) | Time:00:01.77 | Mem:0.00M, Peak:0.00M | Scene, ViewLayer | Updating Scene\n",
            "Fra:1 Mem:570.56M (Peak 1588.76M) | Time:00:01.77 | Mem:0.00M, Peak:0.00M | Scene, ViewLayer | Updating Shaders\n",
            "Fra:1 Mem:570.81M (Peak 1588.76M) | Time:00:01.77 | Mem:0.00M, Peak:0.00M | Scene, ViewLayer | Updating Procedurals\n",
            "Fra:1 Mem:570.81M (Peak 1588.76M) | Time:00:01.77 | Mem:0.00M, Peak:0.00M | Scene, ViewLayer | Updating Background\n",
            "Fra:1 Mem:570.81M (Peak 1588.76M) | Time:00:01.77 | Mem:0.00M, Peak:0.00M | Scene, ViewLayer | Updating Camera\n",
            "Fra:1 Mem:570.81M (Peak 1588.76M) | Time:00:01.77 | Mem:0.00M, Peak:0.00M | Scene, ViewLayer | Updating Meshes Flags\n",
            "Fra:1 Mem:570.81M (Peak 1588.76M) | Time:00:01.77 | Mem:0.00M, Peak:0.00M | Scene, ViewLayer | Updating Objects\n",
            "Fra:1 Mem:570.81M (Peak 1588.76M) | Time:00:01.77 | Mem:0.00M, Peak:0.00M | Scene, ViewLayer | Updating Objects | Copying Transformations to device\n",
            "Fra:1 Mem:570.81M (Peak 1588.76M) | Time:00:01.77 | Mem:0.00M, Peak:0.00M | Scene, ViewLayer | Updating Objects | Applying Static Transformations\n",
            "Fra:1 Mem:570.81M (Peak 1588.76M) | Time:00:01.78 | Mem:0.00M, Peak:0.00M | Scene, ViewLayer | Updating Particle Systems\n",
            "Fra:1 Mem:570.81M (Peak 1588.76M) | Time:00:01.78 | Mem:0.00M, Peak:0.00M | Scene, ViewLayer | Updating Particle Systems | Copying Particles to device\n",
            "Fra:1 Mem:570.81M (Peak 1588.76M) | Time:00:01.78 | Mem:0.00M, Peak:0.00M | Scene, ViewLayer | Updating Meshes\n",
            "Fra:1 Mem:615.49M (Peak 1588.76M) | Time:00:01.87 | Mem:0.00M, Peak:0.00M | Scene, ViewLayer | Updating Mesh | Computing attributes\n",
            "Fra:1 Mem:632.28M (Peak 1588.76M) | Time:00:01.88 | Mem:0.00M, Peak:0.00M | Scene, ViewLayer | Updating Mesh | Copying Attributes to device\n",
            "Fra:1 Mem:632.28M (Peak 1588.76M) | Time:00:01.89 | Mem:16.78M, Peak:16.78M | Scene, ViewLayer | Updating Scene BVH | Building\n",
            "Fra:1 Mem:632.28M (Peak 1588.76M) | Time:00:01.89 | Mem:16.78M, Peak:16.78M | Scene, ViewLayer | Updating Scene BVH | Building BVH\n",
            "Fra:1 Mem:799.83M (Peak 1588.76M) | Time:00:02.52 | Mem:16.78M, Peak:16.78M | Scene, ViewLayer | Updating Scene BVH | Building BVH 0%, duplicates 0%\n",
            "Fra:1 Mem:799.83M (Peak 1588.76M) | Time:00:02.78 | Mem:16.78M, Peak:16.78M | Scene, ViewLayer | Updating Scene BVH | Building BVH 11%, duplicates 0%\n",
            "Fra:1 Mem:799.83M (Peak 1588.76M) | Time:00:03.03 | Mem:16.78M, Peak:16.78M | Scene, ViewLayer | Updating Scene BVH | Building BVH 21%, duplicates 0%\n",
            "Fra:1 Mem:799.83M (Peak 1588.76M) | Time:00:03.28 | Mem:16.78M, Peak:16.78M | Scene, ViewLayer | Updating Scene BVH | Building BVH 31%, duplicates 0%\n",
            "Fra:1 Mem:799.83M (Peak 1588.76M) | Time:00:03.53 | Mem:16.78M, Peak:16.78M | Scene, ViewLayer | Updating Scene BVH | Building BVH 42%, duplicates 0%\n",
            "Fra:1 Mem:799.83M (Peak 1588.76M) | Time:00:03.78 | Mem:16.78M, Peak:16.78M | Scene, ViewLayer | Updating Scene BVH | Building BVH 48%, duplicates 0%\n",
            "Fra:1 Mem:799.83M (Peak 1588.76M) | Time:00:04.03 | Mem:16.78M, Peak:16.78M | Scene, ViewLayer | Updating Scene BVH | Building BVH 60%, duplicates 0%\n",
            "Fra:1 Mem:799.83M (Peak 1588.76M) | Time:00:04.29 | Mem:16.78M, Peak:16.78M | Scene, ViewLayer | Updating Scene BVH | Building BVH 70%, duplicates 0%\n",
            "Fra:1 Mem:799.83M (Peak 1588.76M) | Time:00:04.57 | Mem:16.78M, Peak:16.78M | Scene, ViewLayer | Updating Scene BVH | Building BVH 81%, duplicates 0%\n",
            "Fra:1 Mem:799.83M (Peak 1588.76M) | Time:00:04.82 | Mem:16.78M, Peak:16.78M | Scene, ViewLayer | Updating Scene BVH | Building BVH 92%, duplicates 0%\n",
            "Fra:1 Mem:799.83M (Peak 1588.76M) | Time:00:05.02 | Mem:16.78M, Peak:16.78M | Scene, ViewLayer | Updating Scene BVH | Packing BVH triangles and strands\n",
            "Fra:1 Mem:811.00M (Peak 1588.76M) | Time:00:05.03 | Mem:16.78M, Peak:16.78M | Scene, ViewLayer | Updating Scene BVH | Packing BVH nodes\n",
            "Fra:1 Mem:800.85M (Peak 1588.76M) | Time:00:05.30 | Mem:16.78M, Peak:16.78M | Scene, ViewLayer | Updating Scene BVH | Copying BVH to device\n",
            "Fra:1 Mem:800.85M (Peak 1588.76M) | Time:00:05.31 | Mem:101.07M, Peak:101.07M | Scene, ViewLayer | Updating Mesh | Computing normals\n",
            "Fra:1 Mem:996.37M (Peak 1588.76M) | Time:00:05.42 | Mem:101.07M, Peak:101.07M | Scene, ViewLayer | Updating Mesh | Copying Mesh to device\n",
            "Fra:1 Mem:996.37M (Peak 1588.76M) | Time:00:05.46 | Mem:296.59M, Peak:296.59M | Scene, ViewLayer | Updating Objects Flags\n",
            "Fra:1 Mem:996.37M (Peak 1588.76M) | Time:00:05.46 | Mem:296.59M, Peak:296.59M | Scene, ViewLayer | Updating Primitive Offsets\n",
            "Fra:1 Mem:996.37M (Peak 1588.76M) | Time:00:05.46 | Mem:296.59M, Peak:296.59M | Scene, ViewLayer | Updating Images\n",
            "Fra:1 Mem:996.37M (Peak 1588.76M) | Time:00:05.46 | Mem:296.59M, Peak:296.59M | Scene, ViewLayer | Updating Camera Volume\n",
            "Fra:1 Mem:996.37M (Peak 1588.76M) | Time:00:05.46 | Mem:296.59M, Peak:296.59M | Scene, ViewLayer | Updating Lookup Tables\n",
            "Fra:1 Mem:996.37M (Peak 1588.76M) | Time:00:05.46 | Mem:296.84M, Peak:296.84M | Scene, ViewLayer | Updating Lights\n",
            "Fra:1 Mem:996.37M (Peak 1588.76M) | Time:00:05.46 | Mem:296.84M, Peak:296.84M | Scene, ViewLayer | Updating Lights | Computing distribution\n",
            "Fra:1 Mem:996.37M (Peak 1588.76M) | Time:00:05.46 | Mem:296.84M, Peak:296.84M | Scene, ViewLayer | Updating Integrator\n",
            "Fra:1 Mem:996.38M (Peak 1588.76M) | Time:00:05.46 | Mem:296.85M, Peak:296.85M | Scene, ViewLayer | Updating Film\n",
            "Fra:1 Mem:996.38M (Peak 1588.76M) | Time:00:05.46 | Mem:296.60M, Peak:296.85M | Scene, ViewLayer | Updating Lookup Tables\n",
            "Fra:1 Mem:996.38M (Peak 1588.76M) | Time:00:05.46 | Mem:296.86M, Peak:296.86M | Scene, ViewLayer | Updating Baking\n",
            "Fra:1 Mem:996.38M (Peak 1588.76M) | Time:00:05.46 | Mem:296.86M, Peak:296.86M | Scene, ViewLayer | Updating Device | Writing constant memory\n",
            "Fra:1 Mem:996.38M (Peak 1588.76M) | Time:00:05.46 | Mem:296.86M, Peak:296.86M | Scene, ViewLayer | Loading denoising kernels (may take a few minutes the first time)\n",
            "Fra:1 Mem:1003.38M (Peak 1588.76M) | Time:00:05.47 | Mem:1031.86M, Peak:1031.86M | Scene, ViewLayer | Sample 0/1080\n",
            "Fra:1 Mem:1230.15M (Peak 1588.76M) | Time:00:05.48 | Remaining:00:10.97 | Mem:1258.61M, Peak:1258.61M | Scene, ViewLayer | Sample 1/1080\n",
            "Fra:1 Mem:1230.17M (Peak 1588.76M) | Time:00:05.99 | Remaining:00:06.54 | Mem:1258.63M, Peak:1258.63M | Scene, ViewLayer | Sample 80/1080\n",
            "Fra:1 Mem:1230.17M (Peak 1588.76M) | Time:00:06.01 | Remaining:00:05.52 | Mem:1258.63M, Peak:1258.63M | Scene, ViewLayer | Sample 96/1080\n",
            "Fra:1 Mem:1230.17M (Peak 1588.76M) | Time:00:06.02 | Remaining:00:04.76 | Mem:1258.63M, Peak:1258.63M | Scene, ViewLayer | Sample 112/1080\n",
            "Fra:1 Mem:1230.17M (Peak 1588.76M) | Time:00:06.03 | Remaining:00:04.17 | Mem:1258.63M, Peak:1258.63M | Scene, ViewLayer | Sample 128/1080\n",
            "Fra:1 Mem:1230.17M (Peak 1588.76M) | Time:00:06.04 | Remaining:00:03.70 | Mem:1258.63M, Peak:1258.63M | Scene, ViewLayer | Sample 144/1080\n",
            "Fra:1 Mem:1230.17M (Peak 1588.76M) | Time:00:06.05 | Remaining:00:03.31 | Mem:1258.63M, Peak:1258.63M | Scene, ViewLayer | Sample 160/1080\n",
            "Fra:1 Mem:1230.17M (Peak 1588.76M) | Time:00:06.05 | Remaining:00:02.99 | Mem:1258.63M, Peak:1258.63M | Scene, ViewLayer | Sample 176/1080\n",
            "Fra:1 Mem:1230.17M (Peak 1588.76M) | Time:00:06.06 | Remaining:00:02.72 | Mem:1258.63M, Peak:1258.63M | Scene, ViewLayer | Sample 192/1080\n",
            "Fra:1 Mem:1230.17M (Peak 1588.76M) | Time:00:06.07 | Remaining:00:02.50 | Mem:1258.63M, Peak:1258.63M | Scene, ViewLayer | Sample 208/1080\n",
            "Fra:1 Mem:1230.17M (Peak 1588.76M) | Time:00:06.07 | Remaining:00:02.30 | Mem:1258.63M, Peak:1258.63M | Scene, ViewLayer | Sample 224/1080\n",
            "Fra:1 Mem:1230.17M (Peak 1588.76M) | Time:00:06.08 | Remaining:00:02.12 | Mem:1258.63M, Peak:1258.63M | Scene, ViewLayer | Sample 240/1080\n",
            "Fra:1 Mem:1230.17M (Peak 1588.76M) | Time:00:06.08 | Remaining:00:01.97 | Mem:1258.63M, Peak:1258.63M | Scene, ViewLayer | Sample 256/1080\n",
            "Fra:1 Mem:1230.17M (Peak 1588.76M) | Time:00:06.09 | Remaining:00:01.84 | Mem:1258.63M, Peak:1258.63M | Scene, ViewLayer | Sample 272/1080\n",
            "Fra:1 Mem:1230.17M (Peak 1588.76M) | Time:00:06.10 | Remaining:00:01.72 | Mem:1258.63M, Peak:1258.63M | Scene, ViewLayer | Sample 288/1080\n",
            "Fra:1 Mem:1230.17M (Peak 1588.76M) | Time:00:06.10 | Remaining:00:01.61 | Mem:1258.63M, Peak:1258.63M | Scene, ViewLayer | Sample 304/1080\n",
            "Fra:1 Mem:1230.17M (Peak 1588.76M) | Time:00:06.11 | Remaining:00:01.51 | Mem:1258.63M, Peak:1258.63M | Scene, ViewLayer | Sample 320/1080\n",
            "Fra:1 Mem:1230.17M (Peak 1588.76M) | Time:00:06.11 | Remaining:00:01.42 | Mem:1258.63M, Peak:1258.63M | Scene, ViewLayer | Sample 336/1080\n",
            "Fra:1 Mem:1230.17M (Peak 1588.76M) | Time:00:06.12 | Remaining:00:01.34 | Mem:1258.63M, Peak:1258.63M | Scene, ViewLayer | Sample 352/1080\n",
            "Fra:1 Mem:1230.17M (Peak 1588.76M) | Time:00:06.12 | Remaining:00:01.26 | Mem:1258.63M, Peak:1258.63M | Scene, ViewLayer | Sample 368/1080\n",
            "Fra:1 Mem:1230.17M (Peak 1588.76M) | Time:00:06.13 | Remaining:00:01.19 | Mem:1258.63M, Peak:1258.63M | Scene, ViewLayer | Sample 384/1080\n",
            "Fra:1 Mem:1230.17M (Peak 1588.76M) | Time:00:06.14 | Remaining:00:01.13 | Mem:1258.63M, Peak:1258.63M | Scene, ViewLayer | Sample 400/1080\n",
            "Fra:1 Mem:1230.17M (Peak 1588.76M) | Time:00:06.14 | Remaining:00:01.07 | Mem:1258.63M, Peak:1258.63M | Scene, ViewLayer | Sample 416/1080\n",
            "Fra:1 Mem:1230.17M (Peak 1588.76M) | Time:00:06.15 | Remaining:00:01.01 | Mem:1258.63M, Peak:1258.63M | Scene, ViewLayer | Sample 432/1080\n",
            "Fra:1 Mem:1230.17M (Peak 1588.76M) | Time:00:06.15 | Remaining:00:00.96 | Mem:1258.63M, Peak:1258.63M | Scene, ViewLayer | Sample 448/1080\n",
            "Fra:1 Mem:1230.17M (Peak 1588.76M) | Time:00:06.16 | Remaining:00:00.91 | Mem:1258.63M, Peak:1258.63M | Scene, ViewLayer | Sample 464/1080\n",
            "Fra:1 Mem:1230.17M (Peak 1588.76M) | Time:00:06.16 | Remaining:00:00.86 | Mem:1258.63M, Peak:1258.63M | Scene, ViewLayer | Sample 480/1080\n",
            "Fra:1 Mem:1230.17M (Peak 1588.76M) | Time:00:06.17 | Remaining:00:00.81 | Mem:1258.63M, Peak:1258.63M | Scene, ViewLayer | Sample 496/1080\n",
            "Fra:1 Mem:1230.17M (Peak 1588.76M) | Time:00:06.17 | Remaining:00:00.77 | Mem:1258.63M, Peak:1258.63M | Scene, ViewLayer | Sample 512/1080\n",
            "Fra:1 Mem:1230.17M (Peak 1588.76M) | Time:00:06.17 | Remaining:00:00.73 | Mem:1258.63M, Peak:1258.63M | Scene, ViewLayer | Sample 528/1080\n",
            "Fra:1 Mem:1230.17M (Peak 1588.76M) | Time:00:06.18 | Remaining:00:00.69 | Mem:1258.63M, Peak:1258.63M | Scene, ViewLayer | Sample 544/1080\n",
            "Fra:1 Mem:1230.17M (Peak 1588.76M) | Time:00:06.18 | Remaining:00:00.66 | Mem:1258.63M, Peak:1258.63M | Scene, ViewLayer | Sample 560/1080\n",
            "Fra:1 Mem:1230.17M (Peak 1588.76M) | Time:00:06.19 | Remaining:00:00.62 | Mem:1258.63M, Peak:1258.63M | Scene, ViewLayer | Sample 576/1080\n",
            "Fra:1 Mem:1230.17M (Peak 1588.76M) | Time:00:06.19 | Remaining:00:00.59 | Mem:1258.63M, Peak:1258.63M | Scene, ViewLayer | Sample 592/1080\n",
            "Fra:1 Mem:1230.17M (Peak 1588.76M) | Time:00:06.20 | Remaining:00:00.56 | Mem:1258.63M, Peak:1258.63M | Scene, ViewLayer | Sample 608/1080\n",
            "Fra:1 Mem:1230.17M (Peak 1588.76M) | Time:00:06.20 | Remaining:00:00.53 | Mem:1258.63M, Peak:1258.63M | Scene, ViewLayer | Sample 624/1080\n",
            "Fra:1 Mem:1230.17M (Peak 1588.76M) | Time:00:06.21 | Remaining:00:00.50 | Mem:1258.63M, Peak:1258.63M | Scene, ViewLayer | Sample 640/1080\n",
            "Fra:1 Mem:1230.17M (Peak 1588.76M) | Time:00:06.21 | Remaining:00:00.48 | Mem:1258.63M, Peak:1258.63M | Scene, ViewLayer | Sample 656/1080\n",
            "Fra:1 Mem:1230.17M (Peak 1588.76M) | Time:00:06.22 | Remaining:00:00.45 | Mem:1258.63M, Peak:1258.63M | Scene, ViewLayer | Sample 672/1080\n",
            "Fra:1 Mem:1230.17M (Peak 1588.76M) | Time:00:06.22 | Remaining:00:00.42 | Mem:1258.63M, Peak:1258.63M | Scene, ViewLayer | Sample 688/1080\n",
            "Fra:1 Mem:1230.17M (Peak 1588.76M) | Time:00:06.23 | Remaining:00:00.40 | Mem:1258.63M, Peak:1258.63M | Scene, ViewLayer | Sample 704/1080\n",
            "Fra:1 Mem:1230.17M (Peak 1588.76M) | Time:00:06.23 | Remaining:00:00.38 | Mem:1258.63M, Peak:1258.63M | Scene, ViewLayer | Sample 720/1080\n",
            "Fra:1 Mem:1230.17M (Peak 1588.76M) | Time:00:06.23 | Remaining:00:00.35 | Mem:1258.63M, Peak:1258.63M | Scene, ViewLayer | Sample 736/1080\n",
            "Fra:1 Mem:1230.17M (Peak 1588.76M) | Time:00:06.24 | Remaining:00:00.33 | Mem:1258.63M, Peak:1258.63M | Scene, ViewLayer | Sample 752/1080\n",
            "Fra:1 Mem:1230.17M (Peak 1588.76M) | Time:00:06.24 | Remaining:00:00.31 | Mem:1258.63M, Peak:1258.63M | Scene, ViewLayer | Sample 768/1080\n",
            "Fra:1 Mem:1230.17M (Peak 1588.76M) | Time:00:06.25 | Remaining:00:00.29 | Mem:1258.63M, Peak:1258.63M | Scene, ViewLayer | Sample 784/1080\n",
            "Fra:1 Mem:1230.17M (Peak 1588.76M) | Time:00:06.25 | Remaining:00:00.27 | Mem:1258.63M, Peak:1258.63M | Scene, ViewLayer | Sample 800/1080\n",
            "Fra:1 Mem:1230.17M (Peak 1588.76M) | Time:00:06.26 | Remaining:00:00.25 | Mem:1258.63M, Peak:1258.63M | Scene, ViewLayer | Sample 816/1080\n",
            "Fra:1 Mem:1230.17M (Peak 1588.76M) | Time:00:06.26 | Remaining:00:00.23 | Mem:1258.63M, Peak:1258.63M | Scene, ViewLayer | Sample 832/1080\n",
            "Fra:1 Mem:1230.17M (Peak 1588.76M) | Time:00:06.26 | Remaining:00:00.21 | Mem:1258.63M, Peak:1258.63M | Scene, ViewLayer | Sample 848/1080\n",
            "Fra:1 Mem:1230.17M (Peak 1588.76M) | Time:00:06.27 | Remaining:00:00.19 | Mem:1258.63M, Peak:1258.63M | Scene, ViewLayer | Sample 864/1080\n",
            "Fra:1 Mem:1230.17M (Peak 1588.76M) | Time:00:06.27 | Remaining:00:00.18 | Mem:1258.63M, Peak:1258.63M | Scene, ViewLayer | Sample 880/1080\n",
            "Fra:1 Mem:1230.17M (Peak 1588.76M) | Time:00:06.28 | Remaining:00:00.16 | Mem:1258.63M, Peak:1258.63M | Scene, ViewLayer | Sample 896/1080\n",
            "Fra:1 Mem:1230.17M (Peak 1588.76M) | Time:00:06.28 | Remaining:00:00.14 | Mem:1258.63M, Peak:1258.63M | Scene, ViewLayer | Sample 912/1080\n",
            "Fra:1 Mem:1230.17M (Peak 1588.76M) | Time:00:06.28 | Remaining:00:00.13 | Mem:1258.63M, Peak:1258.63M | Scene, ViewLayer | Sample 928/1080\n",
            "Fra:1 Mem:1230.17M (Peak 1588.76M) | Time:00:06.29 | Remaining:00:00.11 | Mem:1258.63M, Peak:1258.63M | Scene, ViewLayer | Sample 944/1080\n",
            "Fra:1 Mem:1230.17M (Peak 1588.76M) | Time:00:06.29 | Remaining:00:00.10 | Mem:1258.63M, Peak:1258.63M | Scene, ViewLayer | Sample 960/1080\n",
            "Fra:1 Mem:1230.17M (Peak 1588.76M) | Time:00:06.30 | Remaining:00:00.08 | Mem:1258.63M, Peak:1258.63M | Scene, ViewLayer | Sample 976/1080\n",
            "Fra:1 Mem:1230.17M (Peak 1588.76M) | Time:00:06.30 | Remaining:00:00.07 | Mem:1258.63M, Peak:1258.63M | Scene, ViewLayer | Sample 992/1080\n",
            "Fra:1 Mem:1230.17M (Peak 1588.76M) | Time:00:06.30 | Remaining:00:00.05 | Mem:1258.63M, Peak:1258.63M | Scene, ViewLayer | Sample 1008/1080\n",
            "Fra:1 Mem:1230.17M (Peak 1588.76M) | Time:00:06.31 | Remaining:00:00.04 | Mem:1258.63M, Peak:1258.63M | Scene, ViewLayer | Sample 1024/1080\n",
            "Fra:1 Mem:1230.17M (Peak 1588.76M) | Time:00:06.31 | Remaining:00:00.03 | Mem:1258.63M, Peak:1258.63M | Scene, ViewLayer | Sample 1040/1080\n",
            "Fra:1 Mem:1230.17M (Peak 1588.76M) | Time:00:06.32 | Remaining:00:00.01 | Mem:1258.63M, Peak:1258.63M | Scene, ViewLayer | Sample 1056/1080\n",
            "Fra:1 Mem:1230.17M (Peak 1588.76M) | Time:00:06.32 | Remaining:00:00.00 | Mem:1258.63M, Peak:1258.63M | Scene, ViewLayer | Sample 1072/1080\n",
            "Fra:1 Mem:1398.92M (Peak 1588.76M) | Time:00:12.21 | Mem:1258.63M, Peak:1258.63M | Scene, ViewLayer | Sample 1080/1080\n",
            "Fra:1 Mem:1398.92M (Peak 1588.76M) | Time:00:12.21 | Mem:1258.63M, Peak:1258.63M | Scene, ViewLayer | Finished\n",
            "Saved: '/content/drive/MyDrive/Blender0001.png'\n",
            " Time: 00:12.61 (Saving: 00:00.26)\n",
            "\n",
            "\n",
            "Blender quit\n"
          ]
        }
      ]
    },
    {
      "cell_type": "code",
      "source": [
        ""
      ],
      "metadata": {
        "id": "VEMAS-gip0c0"
      },
      "execution_count": null,
      "outputs": []
    }
  ]
}